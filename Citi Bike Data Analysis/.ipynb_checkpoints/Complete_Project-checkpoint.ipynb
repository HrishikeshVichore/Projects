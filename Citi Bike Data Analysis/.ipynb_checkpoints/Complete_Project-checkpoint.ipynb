{
 "cells": [
  {
   "cell_type": "markdown",
   "metadata": {},
   "source": [
    "# Part 1 \n",
    "# Steps for running the project properly:-\n",
    "## 1. For best results please run in Chrome\n",
    "## 2. Library requirements to run the project and the code to install them:-\n",
    "* `pip install selenium`\n",
    "* `pip install pyautogui`\n",
    "* `pip install panel`\n",
    "* `pip install geopy`\n",
    "* `pip install pathlib`\n",
    "* `pip install plotly`\n",
    "* `pip install matplotlib`"
   ]
  },
  {
   "cell_type": "markdown",
   "metadata": {},
   "source": [
    "# 3. To directly check the graphs:-\n",
    "## Run all the cells below Part 3.2. \n",
    "\n",
    "# 4. To check the entire project:-\n",
    "## Delete the databases by changing the value of parameter in Part 1.1 and running all the cells given below."
   ]
  },
  {
   "cell_type": "markdown",
   "metadata": {},
   "source": [
    "## Part 1.1\n",
    "### Delete existing databse\n",
    "#### Change delete_db parameter to True to delete the database"
   ]
  },
  {
   "cell_type": "code",
   "execution_count": null,
   "metadata": {},
   "outputs": [],
   "source": [
    "import sqlite3\n",
    "import os\n",
    "def create_connection(db_file, delete_db=False):\n",
    "    if delete_db and os.path.exists(db_file):\n",
    "        os.remove(db_file)\n",
    "        print(f\"Deleted the database {db_file}\")"
   ]
  },
  {
   "cell_type": "code",
   "execution_count": null,
   "metadata": {},
   "outputs": [],
   "source": [
    "db_dir = 'Databases'\n",
    "original_db = f\"{db_dir}/CityBikes_original.db\"\n",
    "refined_db = f\"{db_dir}/CityBikes_refined.db\"\n",
    "\n",
    "create_connection(original_db, delete_db=True)\n",
    "create_connection(refined_db, delete_db=True)"
   ]
  },
  {
   "cell_type": "markdown",
   "metadata": {},
   "source": [
    "# Part 2\n",
    "## Creation of Database"
   ]
  },
  {
   "cell_type": "markdown",
   "metadata": {},
   "source": [
    "## We have a Project Dataset directory that contains all the csv files of which we want to add to database.\n",
    "## Adding CSV files to database"
   ]
  },
  {
   "cell_type": "code",
   "execution_count": null,
   "metadata": {},
   "outputs": [],
   "source": [
    "from csv import writer\n",
    "from csv import reader\n",
    "import os\n",
    "import csv, sqlite3\n",
    "import shutil\n",
    "from pathlib import Path\n",
    "path = 'Project_Dataset'\n",
    "if os.path.isdir(path):\n",
    "    dirs = os.listdir(path)\n",
    "else:\n",
    "    raise NotImplementedError()\n",
    "db_dir = 'Databases'\n",
    "if not os.path.isdir(db_dir):\n",
    "    os.mkdir(db_dir)\n",
    "original_db = f\"{db_dir}/CityBikes_original.db\"\n",
    "con = sqlite3.connect(original_db)\n",
    "cur = con.cursor()"
   ]
  },
  {
   "cell_type": "code",
   "execution_count": null,
   "metadata": {},
   "outputs": [],
   "source": [
    "def insert_into_database():\n",
    "    for folder in dirs:\n",
    "        if not folder.startswith('.'):\n",
    "            for file in os.listdir(path + '/' + folder):\n",
    "                filepath = f'{path}/{folder}/{file}'\n",
    "                if os.path.isfile(filepath):\n",
    "                    if not file.startswith('.'):\n",
    "                        tablename = file.split('.')[0]\n",
    "                        sql_query = f\"\"\"CREATE TABLE IF NOT EXISTS \"{tablename}\" (\n",
    "                                        \"index\" INTEGER Primary Key,\n",
    "                                          \"tripduration\" INTEGER,\n",
    "                                          \"starttime\" TEXT,\n",
    "                                          \"stoptime\" TEXT,\n",
    "                                          \"start_station_id\" REAL,\n",
    "                                          \"start_station_name\" TEXT,\n",
    "                                          \"start_station_latitude\" REAL,\n",
    "                                          \"start_station_longitude\" REAL,\n",
    "                                          \"end_station_id\" REAL,\n",
    "                                          \"end_station_name\" TEXT,\n",
    "                                          \"end_station_latitude\" REAL,\n",
    "                                          \"end_station_longitude\" REAL,\n",
    "                                          \"bikeid\" INTEGER,\n",
    "                                          \"usertype\" TEXT,\n",
    "                                          \"birth_year\" INTEGER,\n",
    "                                          \"gender\" INTEGER\n",
    "                                        )\"\"\"\n",
    "                        cur.execute(sql_query) \n",
    "\n",
    "                        with open(filepath) as fin: \n",
    "                            dr = csv.DictReader(fin)\n",
    "                            fieldnames = dr.fieldnames\n",
    "                            to_db = [(i[fieldnames[0]], i[fieldnames[1]], i[fieldnames[2]], \n",
    "                                     i[fieldnames[3]], i[fieldnames[4]], \n",
    "                                     i[fieldnames[5]], i[fieldnames[6]],\n",
    "                                     i[fieldnames[7]], i[fieldnames[8]], \n",
    "                                     i[fieldnames[9]], i[fieldnames[10]], i[fieldnames[11]], \n",
    "                                     i[fieldnames[12]], i[fieldnames[13]], i[fieldnames[14]]) for i in dr]\n",
    "\n",
    "                            sql_query = f\"\"\"INSERT INTO \"{tablename}\" (\n",
    "                                              \"tripduration\" ,\n",
    "                                              \"starttime\" ,\n",
    "                                              \"stoptime\" ,\n",
    "                                              \"start_station_id\" ,\n",
    "                                              \"start_station_name\" ,\n",
    "                                              \"start_station_latitude\" ,\n",
    "                                              \"start_station_longitude\" ,\n",
    "                                              \"end_station_id\" ,\n",
    "                                              \"end_station_name\" ,\n",
    "                                              \"end_station_latitude\" ,\n",
    "                                              \"end_station_longitude\" ,\n",
    "                                              \"bikeid\" ,\n",
    "                                              \"usertype\" ,\n",
    "                                              \"birth_year\" ,\n",
    "                                              \"gender\" \n",
    "                                            ) VALUES(?,\n",
    "                                            ?,?,?,\n",
    "                                            ?,?,?,\n",
    "                                            ?,?,?,\n",
    "                                            ?,?,?,\n",
    "                                            ?,?)\"\"\"\n",
    "\n",
    "                            cur.executemany(sql_query, to_db)\n",
    "                            print(f'Created and Inserted into {tablename}')\n",
    "                            #break\n",
    "    con.commit()\n",
    "    con.close()"
   ]
  },
  {
   "cell_type": "code",
   "execution_count": null,
   "metadata": {},
   "outputs": [],
   "source": [
    "insert_into_database()"
   ]
  },
  {
   "cell_type": "markdown",
   "metadata": {},
   "source": [
    "# Part 3"
   ]
  },
  {
   "cell_type": "markdown",
   "metadata": {},
   "source": [
    "# Preprocessing"
   ]
  },
  {
   "cell_type": "code",
   "execution_count": null,
   "metadata": {},
   "outputs": [],
   "source": [
    "import os\n",
    "import sqlite3 as sql\n",
    "import shutil\n",
    "import matplotlib.pyplot as plt\n",
    "import plotly as py #plotly import\n",
    "import plotly.graph_objs as go\n",
    "import panel as pn\n",
    "import panel.widgets as pnw\n",
    "from scipy.stats import skew\n",
    "import calendar\n",
    "from pathlib import Path\n",
    "py.offline.init_notebook_mode(connected = True)\n",
    "db_dir = 'Databases'\n",
    "original_db = f\"{db_dir}/CityBikes_original.db\"\n",
    "refined_db = f\"{db_dir}/CityBikes_refined.db\"\n",
    "db = sql.connect(original_db)\n",
    "cur = db.cursor()\n",
    "cur.execute(\"SELECT name FROM sqlite_master WHERE type = 'table';\")\n",
    "tablenames = [i[0] for i in cur.fetchall()]"
   ]
  },
  {
   "cell_type": "markdown",
   "metadata": {},
   "source": [
    "## Checking for Empty cells and deleting it"
   ]
  },
  {
   "cell_type": "code",
   "execution_count": null,
   "metadata": {},
   "outputs": [],
   "source": [
    "def check_null_values():\n",
    "    for i in tablenames:\n",
    "        cur.execute(f'Select * from \"{i}\";')\n",
    "        names = list(map(lambda x: x[0], cur.description))\n",
    "        for j in names:\n",
    "            sql_query1 = f'DELETE from \"{i}\" where \"{j}\" is NULL;'\n",
    "            print(sql_query1)\n",
    "            cur.execute(sql_query1)\n",
    "            sql_query2 = f\"DELETE from '{i}' where '{j}'='NaN';\"\n",
    "            cur.execute(sql_query2)\n",
    "            db.commit()\n"
   ]
  },
  {
   "cell_type": "code",
   "execution_count": null,
   "metadata": {},
   "outputs": [],
   "source": [
    "check_null_values()"
   ]
  },
  {
   "cell_type": "code",
   "execution_count": null,
   "metadata": {},
   "outputs": [],
   "source": [
    "def copy_database():\n",
    "    from time import sleep\n",
    "    historicalSize = -1\n",
    "    shutil.copyfile(original_db,refined_db)\n",
    "    print('Copying Database!')\n",
    "    while (historicalSize != os.path.getsize(original_db)):\n",
    "        historicalSize = os.path.getsize(refined_db)\n",
    "        print('Copied Database Successfully!')\n",
    "        sleep(1)\n",
    "        \n",
    "        "
   ]
  },
  {
   "cell_type": "code",
   "execution_count": null,
   "metadata": {
    "scrolled": true
   },
   "outputs": [],
   "source": [
    "copy_database()"
   ]
  },
  {
   "cell_type": "markdown",
   "metadata": {},
   "source": [
    "# Part 3.1\n",
    "# Checking for outliers and removing it"
   ]
  },
  {
   "cell_type": "markdown",
   "metadata": {},
   "source": [
    "## 1. Deleting either ends of the extreme for tripduration\n",
    "### 1.1. Delete all the rows that has tripduration higher than the upper fence of box plot as they are strictly outliers\n",
    "\n",
    "### 1.2. Delete all the rows that has start and end station name same and tripduration is less than 90 seconds as the bike maybe broken.\n",
    "\n",
    "## 2. Deleting anamolous birth year\n",
    "\n",
    "### 2.1.There are many places where date of birth is in the year 1880's or even before so, to remove this anamoly an average lifespan of 80 years was considered and all the cells with birth year less than 1940 was deleted"
   ]
  },
  {
   "cell_type": "code",
   "execution_count": null,
   "metadata": {},
   "outputs": [],
   "source": [
    "def remove_outlier():\n",
    "    plt.ioff()\n",
    "    db = sql.connect(refined_db)\n",
    "    cur = db.cursor()\n",
    "    name = \"tripduration\"\n",
    "    for tablename in tablenames:\n",
    "        sql_query1 = f'Select \"{name}\" from \"{tablename}\"'\n",
    "        cur.execute(sql_query1)\n",
    "        col_data = cur.fetchall()\n",
    "        y = [i[0] for i in col_data]\n",
    "        upper_fence = str(int([item.get_ydata().astype(int) for item in plt.boxplot(y)['whiskers']][1][1]))\n",
    "        sql_query = f'DELETE FROM \"{tablename}\" where \"{name}\" > {upper_fence}'\n",
    "        cur.execute(sql_query)\n",
    "        sql_query = f'DELETE FROM \"{tablename}\" where start_station_name == end_station_name and tripduration < 90'\n",
    "        cur.execute(sql_query)\n",
    "        sql_query = f'DELETE FROM \"{tablename}\" WHERE \"BIRTH_YEAR\" < 1940;'\n",
    "        cur.execute(sql_query)\n",
    "        print(f'Removing Outlier from {tablename} table')\n",
    "        db.commit()\n"
   ]
  },
  {
   "cell_type": "code",
   "execution_count": null,
   "metadata": {},
   "outputs": [],
   "source": [
    "remove_outlier()"
   ]
  },
  {
   "cell_type": "markdown",
   "metadata": {},
   "source": [
    "# Part 3.2 Outlier Graphs\n",
    "## Plotting various types of graphs before and after outlier removal"
   ]
  },
  {
   "cell_type": "code",
   "execution_count": null,
   "metadata": {},
   "outputs": [],
   "source": [
    "import os\n",
    "import sqlite3 as sql\n",
    "import shutil\n",
    "import matplotlib.pyplot as plt\n",
    "import plotly as py #plotly import\n",
    "import plotly.graph_objs as go\n",
    "import panel as pn\n",
    "import panel.widgets as pnw\n",
    "from scipy.stats import skew\n",
    "import calendar\n",
    "from pathlib import Path\n",
    "py.offline.init_notebook_mode(connected = True)\n",
    "db_dir = 'Databases'\n",
    "original_db = f\"{db_dir}/CityBikes_original.db\"\n",
    "refined_db = f\"{db_dir}/CityBikes_refined.db\"\n",
    "db = sql.connect(original_db)\n",
    "cur = db.cursor()\n",
    "cur.execute(\"SELECT name FROM sqlite_master WHERE type = 'table';\")\n",
    "tablenames = [i[0] for i in cur.fetchall()]"
   ]
  },
  {
   "cell_type": "code",
   "execution_count": null,
   "metadata": {},
   "outputs": [],
   "source": [
    "def check_outlier(month, year, city, filename, graph = 'Scatter'):\n",
    "    tablename = f'{city}-{year}{str(month).zfill(2)}'\n",
    "    db = sql.connect(filename)\n",
    "    cur = db.cursor()\n",
    "    sql_query1 = f'Select \"index\",\"tripduration\" from \"{tablename}\"'\n",
    "    cur.execute(sql_query1)\n",
    "    col_data = cur.fetchall()\n",
    "    x = [i[0] for i in col_data]\n",
    "    y = [i[1] for i in col_data]\n",
    "    if 'Scatter' in graph:\n",
    "        fig = go.Figure(data=go.Scatter(x=x, y=y, mode='markers'))\n",
    "        fig.update_layout(title_text=f'Scatter Plot for {tablename}')\n",
    "        return fig\n",
    "    elif 'Box Plot' in graph:\n",
    "        fig = go.Figure()\n",
    "        fig.add_trace(go.Box(y=y,boxpoints=\"outliers\"))\n",
    "        fig.update_layout(title_text=f'Box Plot for {tablename}')\n",
    "        return fig\n",
    "    else:\n",
    "        fig = go.Figure(data=[go.Histogram(x=y,)])\n",
    "        fig.update_layout(title_text=f'Histogram for {tablename}')\n",
    "        return fig"
   ]
  },
  {
   "cell_type": "code",
   "execution_count": null,
   "metadata": {},
   "outputs": [],
   "source": [
    "pn.extension('plotly')\n",
    "graph_list = ['Scatter','Box Plot','Histogram']\n",
    "options = {'With Outlier': original_db,\n",
    "          'Without Outlier': refined_db}\n",
    "variable  = pnw.RadioButtonGroup(name='variable', value='Scatter', \n",
    "                                 options=graph_list)\n",
    "months = {calendar.month_name[month]:month for month in range(1,12)}\n",
    "month = pnw.Select(name='Month', options = months, value = 1) \n",
    "year = pnw.Select(name='Year', options=[2019,2020], value=2019)\n",
    "city = pnw.Select(name='City', options=['NYC','JC'], value='JC')\n",
    "filename = pnw.Select(name='File type', options=options, value=original_db)\n",
    "@pn.depends(variable, month, year, city, filename)\n",
    "def reactive_outliers(variable, month, year, city, filename):\n",
    "    return check_outlier(month, year, city, filename, graph = variable)\n",
    "\n",
    "widgets   = pn.Column(\"<br>\\n# Outlier Plotting\", variable, month, year, city, filename)\n",
    "occupancy = pn.Row(reactive_outliers, widgets)\n",
    "#occupancy = pn.Column(variable, occupancy)\n",
    "occupancy.show(title = 'Outlier Graphs')"
   ]
  },
  {
   "cell_type": "markdown",
   "metadata": {},
   "source": [
    "# Analysis on data\n",
    "# Part 4 Monthwise Analysis"
   ]
  },
  {
   "cell_type": "markdown",
   "metadata": {},
   "source": [
    "## 4.1 Busiest and Free Day"
   ]
  },
  {
   "cell_type": "code",
   "execution_count": null,
   "metadata": {},
   "outputs": [],
   "source": [
    "import plotly as py #plotly import\n",
    "import plotly.graph_objs as go #import graph objects such as scatter plot and line plot etc.\n",
    "import sqlite3 as sql, calendar\n",
    "from datetime import date\n",
    "import numpy as np\n",
    "import panel as pn\n",
    "import panel.widgets as pnw\n",
    "from plotly.subplots import make_subplots\n",
    "from time import sleep\n",
    "from geopy.distance import distance\n",
    "import pyautogui as pg\n",
    "from pathlib import Path\n",
    "py.offline.init_notebook_mode(connected = True)\n",
    "db_dir = 'Databases'\n",
    "original_db = f\"{db_dir}/CityBikes_original.db\"\n",
    "refined_db = f\"{db_dir}/CityBikes_refined.db\"\n",
    "db = sql.connect(refined_db)\n",
    "cur = db.cursor()"
   ]
  },
  {
   "cell_type": "code",
   "execution_count": null,
   "metadata": {},
   "outputs": [],
   "source": [
    "def busiest_day(month):\n",
    "    #dynamically updating tablename to fetch from database\n",
    "    tablenames = {}\n",
    "    tablenames[(1,1)] = f'JC-2019{str(month).zfill(2)}'\n",
    "    tablenames[(1,2)] = f'JC-2020{str(month).zfill(2)}'\n",
    "    tablenames[(2,1)] = f'NYC-2019{str(month).zfill(2)}'\n",
    "    tablenames[(2,2)] = f'NYC-2020{str(month).zfill(2)}'\n",
    "    fig = make_subplots(\n",
    "    rows=2, cols=2,\n",
    "    subplot_titles=(\"JC-2019\", \"JC-2020\", \"NYC-2019\", \"NYC-2020\"))\n",
    "    for position, tablename in tablenames.items():\n",
    "        #SQL query for counting number of bike rides\n",
    "        sql_query = f'''SELECT date(starttime), COUNT(starttime) FROM \"{tablename}\" GROUP BY DATE(STARTTIME);'''\n",
    "        cur.execute(sql_query)\n",
    "        count_days_dict = {i[0]:i[1] for i in cur.fetchall()}\n",
    "        #Seperating Key and values for x and y axis\n",
    "        x = list(count_days_dict.keys())\n",
    "        y = [count_days_dict[key] for key in count_days_dict]\n",
    "        #Adding minimum values\n",
    "        min_x = [key for key, value in count_days_dict.items() if min(y) == value]\n",
    "        min_y = [min(y)] * len(min_x)\n",
    "        fig.add_trace(go.Scatter(x=min_x, y=min_y,text=min_y, name = 'Free day'),\n",
    "                     row = position[0], col = position[1])\n",
    "        #Adding Maximum values\n",
    "        max_x = [key for key, value in count_days_dict.items() if max(y) == value]\n",
    "        max_y = [max(y)] * len(max_x)\n",
    "        fig.add_trace(go.Scatter(x=max_x, y=max_y,text=max_y, name = 'Busiest Day'),\n",
    "                     row = position[0], col = position[1])\n",
    "        #Deleting already used values like max and min\n",
    "        for i in max_x:\n",
    "            del count_days_dict[i]\n",
    "        for i in min_x:\n",
    "            del count_days_dict[i]\n",
    "\n",
    "        x = list(count_days_dict.keys())\n",
    "        y = [count_days_dict[key] for key in count_days_dict]\n",
    "        #Adding the remaining data\n",
    "        fig.add_trace(go.Scatter(x=x, y=y,text=y, name = 'Other Days'),\n",
    "                     row = position[0], col = position[1])\n",
    "        fig.update_xaxes(title_text=\"Days\", row = position[0], col = position[1])\n",
    "        fig.update_yaxes(title_text=\"Number of bikes on road\", row = position[0], col = position[1])\n",
    "    fig.update_layout(height=1000, width=1050, title_text=f'{calendar.month_name[month]} Busiest Day Report')\n",
    "    return fig"
   ]
  },
  {
   "cell_type": "markdown",
   "metadata": {},
   "source": [
    "## 4.2 Busiest Month"
   ]
  },
  {
   "cell_type": "code",
   "execution_count": null,
   "metadata": {},
   "outputs": [],
   "source": [
    "def busiest_month():\n",
    "    tablenames = {}\n",
    "    tablenames[(1,1)] = [f'JC-2019{str(month).zfill(2)}' for month in range(1,12)]\n",
    "    tablenames[(1,2)] = [f'JC-2020{str(month).zfill(2)}' for month in range(1,12)]\n",
    "    tablenames[(2,1)] = [f'NYC-2019{str(month).zfill(2)}' for month in range(1,12)]\n",
    "    tablenames[(2,2)] = [f'NYC-2020{str(month).zfill(2)}' for month in range(1,12)]\n",
    "    fig = make_subplots(\n",
    "    rows=2, cols=2,\n",
    "    subplot_titles=(\"JC-2019\", \"JC-2020\", \"NYC-2019\", \"NYC-2020\"))\n",
    "    count_bike = {}\n",
    "    for position, tablename in tablenames.items():\n",
    "        month = 1\n",
    "        for i in tablename:\n",
    "            sql_query = f'''SELECT COUNT(BIKEID) FROM \"{i}\";'''\n",
    "            cur.execute(sql_query)\n",
    "            count_bike[calendar.month_name[month]] = cur.fetchone()[0]\n",
    "            month += 1\n",
    "        x = list(count_bike.keys())\n",
    "        y = [count_bike[key] for key in count_bike]\n",
    "        fig.add_trace(go.Scatter(x=x, y=y,text=y, name = 'Months'),\n",
    "                     row = position[0], col = position[1])\n",
    "        fig.update_xaxes(title_text=\"Months\", row = position[0], col = position[1])\n",
    "        fig.update_yaxes(title_text=\"Number of bikes on road\", row = position[0], col = position[1])\n",
    "    fig.update_layout(height=1000, width=1050, title_text=f'Busiest Month Report')\n",
    "    return fig"
   ]
  },
  {
   "cell_type": "markdown",
   "metadata": {},
   "source": [
    "## 4.3.1 Frequent Pickup Spots\n",
    "### Top 20 Pickup spots"
   ]
  },
  {
   "cell_type": "code",
   "execution_count": null,
   "metadata": {},
   "outputs": [],
   "source": [
    "def Frequent_Pickup_Spots(month, year, city):\n",
    "    tablename = f'{city}-{year}{str(month).zfill(2)}'\n",
    "    sql_query = f'''Select \"Start_Station_Latitude\", \"Start_Station_Longitude\", COUNT(\"Start_Station_Latitude\") as counts, \"Start_Station_Name\"\n",
    "                from \"{tablename}\" Group by \"Start_Station_Name\" order by counts desc limit 20;'''\n",
    "    cur.execute(sql_query)\n",
    "    result = cur.fetchall()\n",
    "    lat = [i[0] for i in result]\n",
    "    lon = [i[1] for i in result]\n",
    "    z = [i[2] for i in result]\n",
    "    text =[i[3] for i in result]\n",
    "    hovertemplate = \"Station Name: %{text} <br>Count: %{z}\"\n",
    "    fig = go.Figure(go.Densitymapbox(lat=lat, lon=lon, z=z, radius=10,text=text, hovertemplate=hovertemplate))\n",
    "    fig.update_layout(mapbox_style=\"open-street-map\",mapbox_center_lon=lon[1], mapbox_center_lat=lat[1])\n",
    "    fig.update_layout(margin={\"r\":0,\"t\":0,\"l\":0,\"b\":0},mapbox=dict(\n",
    "            center=dict(\n",
    "                lat=lat[1], \n",
    "                lon=lon[1]\n",
    "            ),\n",
    "            zoom=11.3\n",
    "        ))\n",
    "    return fig"
   ]
  },
  {
   "cell_type": "markdown",
   "metadata": {},
   "source": [
    "## 4.3.2 Frequent Drop Spots\n",
    "### Top 20 Drop spots"
   ]
  },
  {
   "cell_type": "code",
   "execution_count": null,
   "metadata": {},
   "outputs": [],
   "source": [
    "def Frequent_Drop_Spots(month, year, city):\n",
    "    tablename = f'{city}-{year}{str(month).zfill(2)}'\n",
    "    sql_query = f'''Select \"End_Station_Latitude\", \"End_Station_Longitude\", COUNT(\"End_Station_Latitude\") as counts, \"End_Station_Name\" \n",
    "                from \"{tablename}\" Group by \"End_Station_Name\" order by counts desc limit 20;'''\n",
    "    cur.execute(sql_query)\n",
    "    result = cur.fetchall()\n",
    "    lat = [i[0] for i in result]\n",
    "    lon = [i[1] for i in result]\n",
    "    z = [i[2] for i in result]\n",
    "    text =[i[3] for i in result]\n",
    "    hovertemplate = \"Station Name: %{text} <br>Count: %{z}\"\n",
    "    fig = go.Figure(go.Densitymapbox(lat=lat, lon=lon, z=z, radius=10,text=text, hovertemplate=hovertemplate))\n",
    "    fig.update_layout(mapbox_style=\"open-street-map\",mapbox_center_lon=lon[1], mapbox_center_lat=lat[1])\n",
    "    fig.update_layout(margin={\"r\":0,\"t\":0,\"l\":0,\"b\":0},mapbox=dict(\n",
    "            center=dict(\n",
    "                lat=lat[1], \n",
    "                lon=lon[1]\n",
    "            ),\n",
    "            zoom=11.3\n",
    "        ))\n",
    "    return fig"
   ]
  },
  {
   "cell_type": "markdown",
   "metadata": {},
   "source": [
    "## 4.4 Most and Least Used Bikes"
   ]
  },
  {
   "cell_type": "code",
   "execution_count": null,
   "metadata": {},
   "outputs": [],
   "source": [
    "def most_and_least_used_bikes(year, city):\n",
    "    tablenames = [f'{city}-{year}{str(month).zfill(2)}' for month in range(1,12)]\n",
    "    count_of_most_used_bikes = {}\n",
    "    count_of_least_used_bikes = {}\n",
    "    for tablename in tablenames:\n",
    "        sql_query = f'''SELECT bikeid, MAX(MYCOUNT) FROM (SELECT bikeid, COUNT(BIKEID)AS MYCOUNT FROM \"{tablename}\" GROUP BY bikeid);'''\n",
    "        cur.execute(sql_query)\n",
    "        bikeid, count = cur.fetchone()\n",
    "        month = int(tablename.split('-')[1][-2:])\n",
    "        count_of_most_used_bikes[calendar.month_name[month]] = (count,bikeid)\n",
    "        sql_query = f'''SELECT bikeid, MIN(MYCOUNT) FROM (SELECT bikeid, COUNT(BIKEID)AS MYCOUNT FROM \"{tablename}\" GROUP BY bikeid);'''\n",
    "        cur.execute(sql_query)\n",
    "        bikeid, count = cur.fetchone()\n",
    "        count_of_least_used_bikes[calendar.month_name[month]] = (count,bikeid)\n",
    "    x = list(count_of_most_used_bikes.keys())\n",
    "    y1 = [count_of_most_used_bikes[key][0] for key in count_of_most_used_bikes]\n",
    "    text1 = [f'bikeid = {count_of_most_used_bikes[key][1]}' for key in count_of_most_used_bikes]\n",
    "    y2 = [count_of_least_used_bikes[key][0] for key in count_of_least_used_bikes]\n",
    "    text2 = [f'bikeid = {count_of_least_used_bikes[key][1]}' for key in count_of_least_used_bikes]\n",
    "    fig = go.Figure(data=[\n",
    "        go.Bar(name='Most Used Bikes', x=x, y=y1, text = text1, textposition='outside'),\n",
    "        go.Bar(name='Least Used Bikes', x=x, y=y2, text = text2, textposition='outside')\n",
    "    ])\n",
    "    fig.update_layout(height=600, width=800, title_text=f\"Most and least used bikes of {year} year and {city} city\")\n",
    "    fig.update_layout(barmode='group')\n",
    "    fig.update_layout(xaxis_title = 'Months', yaxis_title = 'Number of times bike is used')\n",
    "    return fig"
   ]
  },
  {
   "cell_type": "markdown",
   "metadata": {},
   "source": [
    "## 4.5 Histogram of estimated travel distance by month"
   ]
  },
  {
   "cell_type": "code",
   "execution_count": null,
   "metadata": {},
   "outputs": [],
   "source": [
    "def estimated_travel_distance(month, year, city):\n",
    "    tablename = f'{city}-{year}{str(month).zfill(2)}'\n",
    "    sql_query = f'''Select \"Start_Station_Latitude\", \"Start_Station_Longitude\", \n",
    "    \"End_Station_Latitude\", \"End_Station_Longitude\" from \"{tablename}\";'''\n",
    "    cur.execute(sql_query)\n",
    "    result = cur.fetchall()\n",
    "    start_coord = [(i[0], i[1]) for i in result]\n",
    "    end_coord = [(i[2], i[3]) for i in result]\n",
    "    travel_distance = [round(distance(i, j).miles,2) for i,j in zip(start_coord, end_coord)]\n",
    "    fig = go.Figure()\n",
    "    fig.add_trace(go.Histogram(x=travel_distance))\n",
    "    fig.update_xaxes(title_text=\"Distance in Miles\")\n",
    "    fig.update_yaxes(title_text=\"Count\")\n",
    "    fig.update_layout(title_text=f'{calendar.month_name[month]} Estimated Travel Distance')\n",
    "    return fig"
   ]
  },
  {
   "cell_type": "markdown",
   "metadata": {},
   "source": [
    "# Part 5 Seasonal Analysis\n",
    "\n",
    "## 5.1 Busiest Day of season"
   ]
  },
  {
   "cell_type": "code",
   "execution_count": null,
   "metadata": {},
   "outputs": [],
   "source": [
    "def busiest_day_seasonal(season, season_name):\n",
    "    tablenames = {}\n",
    "    tablenames[(1,1)] = [f'JC-2019{str(month).zfill(2)}' for month in season]\n",
    "    tablenames[(1,2)] = [f'JC-2020{str(month).zfill(2)}' for month in season]\n",
    "    tablenames[(2,1)] = [f'NYC-2019{str(month).zfill(2)}' for month in season]\n",
    "    tablenames[(2,2)] = [f'NYC-2020{str(month).zfill(2)}' for month in season]\n",
    "    fig = make_subplots(\n",
    "    rows=2, cols=2, subplot_titles=(\"JC-2019\", \"JC-2020\", \"NYC-2019\", \"NYC-2020\"))\n",
    "    for position, tablename in tablenames.items():\n",
    "        if \"Winter\" in season_name:\n",
    "            sql_query = f'''SELECT date(starttime), COUNT(starttime) FROM \"{tablename[0]}\" GROUP BY DATE(STARTTIME) UNION \n",
    "            SELECT date(starttime), COUNT(starttime) FROM \"{tablename[1]}\" GROUP BY DATE(STARTTIME);''' \n",
    "        else:\n",
    "            sql_query = f'''SELECT date(starttime), COUNT(starttime) FROM \"{tablename[0]}\" GROUP BY DATE(STARTTIME) UNION \n",
    "            SELECT date(starttime), COUNT(starttime) FROM \"{tablename[1]}\" GROUP BY DATE(STARTTIME) union \n",
    "            SELECT date(starttime), COUNT(starttime) FROM \"{tablename[2]}\" GROUP BY DATE(STARTTIME);''' \n",
    "        cur.execute(sql_query)\n",
    "        count_days_dict = {i[0]:i[1] for i in cur.fetchall()}\n",
    "        x = list(count_days_dict.keys())\n",
    "        y = [count_days_dict[key] for key in count_days_dict]\n",
    "        #Adding minimum values\n",
    "        min_x = [key for key, value in count_days_dict.items() if min(y) == value]\n",
    "        min_y = [min(y)] * len(min_x)\n",
    "\n",
    "        fig.add_trace(go.Scatter(x=min_x, y=min_y,text=min_y, name = 'Free day'),\n",
    "                     row = position[0], col = position[1])\n",
    "        #Adding Maximum values\n",
    "        max_x = [key for key, value in count_days_dict.items() if max(y) == value]\n",
    "        max_y = [max(y)] * len(max_x)\n",
    "        fig.add_trace(go.Scatter(x=max_x, y=max_y,text=max_y, name = 'Busiest Day'),\n",
    "                     row = position[0], col = position[1])\n",
    "        #Deleting already used values like max and min\n",
    "        for i in max_x:\n",
    "            del count_days_dict[i]\n",
    "        for i in min_x:\n",
    "            del count_days_dict[i]\n",
    "\n",
    "        x = list(count_days_dict.keys())\n",
    "        y = [count_days_dict[key] for key in count_days_dict]\n",
    "        #Adding the remaining data\n",
    "        fig.add_trace(go.Scatter(x=x, y=y,text=y, name = 'Other Days'),\n",
    "                     row = position[0], col = position[1])\n",
    "    fig.update_layout(height=1000, width=1050, title_text=f'Busiest Day Report for {season_name}')\n",
    "    return fig"
   ]
  },
  {
   "cell_type": "markdown",
   "metadata": {},
   "source": [
    "## 5.2 Busiest Month of Season"
   ]
  },
  {
   "cell_type": "code",
   "execution_count": null,
   "metadata": {},
   "outputs": [],
   "source": [
    "def busiest_month_seasonal(season, season_name):\n",
    "    tablenames = {}\n",
    "    tablenames[(1,1)] = [f'JC-2019{str(month).zfill(2)}' for month in season]\n",
    "    tablenames[(1,2)] = [f'JC-2020{str(month).zfill(2)}' for month in season]\n",
    "    tablenames[(2,1)] = [f'NYC-2019{str(month).zfill(2)}' for month in season]\n",
    "    tablenames[(2,2)] = [f'NYC-2020{str(month).zfill(2)}' for month in season]\n",
    "    fig = make_subplots(\n",
    "    rows=2, cols=2,\n",
    "    subplot_titles=(\"JC-2019\", \"JC-2020\", \"NYC-2019\", \"NYC-2020\"))\n",
    "    count_bike = {}\n",
    "    for position, tablename in tablenames.items():\n",
    "        month = 0\n",
    "        for i in tablename:\n",
    "            sql_query = f'''SELECT COUNT(BIKEID) FROM \"{i}\";'''\n",
    "            cur.execute(sql_query)\n",
    "            count_bike[calendar.month_name[season[month]]] = cur.fetchone()[0]\n",
    "            month += 1\n",
    "        x = list(count_bike.keys())\n",
    "        y = [count_bike[key] for key in count_bike]\n",
    "        fig.add_trace(go.Scatter(x=x, y=y,text=y, name = 'Months', showlegend=False),\n",
    "                     row = position[0], col = position[1])\n",
    "        fig.update_xaxes(title_text=\"Months\", row = position[0], col = position[1])\n",
    "        fig.update_yaxes(title_text=\"Number of bikes on road\", row = position[0], col = position[1])\n",
    "    fig.update_layout(height=1000, width=1050, title_text=f'Busiest Month in {season_name} Season Report')\n",
    "    return fig"
   ]
  },
  {
   "cell_type": "markdown",
   "metadata": {},
   "source": [
    "## 5.3 Frequent Pickup Spots"
   ]
  },
  {
   "cell_type": "code",
   "execution_count": null,
   "metadata": {},
   "outputs": [],
   "source": [
    "def Frequent_Pickup_Spots_season(season, year, city, season_name):\n",
    "    tablename = [f'{city}-{year}{str(month).zfill(2)}' for month in season]     \n",
    "    if \"Winter\" in season_name:\n",
    "        sql_query = f'''SELECT a.Start_Station_Latitude, a.Start_Station_Longitude, a.Start_Station_Name, \n",
    "        (COUNT(1)\n",
    "        +(IFNULL((SELECT COUNT(1) from \"{tablename[1]}\" as b where b.Start_Station_Name = a.Start_Station_Name Group by b.Start_Station_Name),0))        \n",
    "        ) as total_count from \"{tablename[0]}\" as a group by Start_Station_Name order by total_count desc limit 20;'''\n",
    "    else:\n",
    "        sql_query = f'''SELECT a.Start_Station_Latitude, a.Start_Station_Longitude, a.Start_Station_Name, \n",
    "        (COUNT(1)\n",
    "        +(IFNULL((SELECT COUNT(1) from \"{tablename[1]}\" as b where b.Start_Station_Name = a.Start_Station_Name Group by b.Start_Station_Name),0))\n",
    "        +(IFNULL((SELECT COUNT(1) from \"{tablename[2]}\" as c where c.Start_Station_Name = a.Start_Station_Name Group by c.Start_Station_Name),0))\n",
    "        ) as total_count from \"{tablename[0]}\" as a group by Start_Station_Name order by total_count desc limit 20;'''\n",
    "    cur.execute(sql_query)\n",
    "    result = cur.fetchall()\n",
    "    lat = [i[0] for i in result]\n",
    "    lon = [i[1] for i in result]\n",
    "    z = [i[3] for i in result]\n",
    "    text =[i[2] for i in result]\n",
    "    hovertemplate = \"Station Name: %{text} <br>Count: %{z}\"\n",
    "    fig = go.Figure(go.Densitymapbox(lat=lat, lon=lon, z=z, radius=10,text=text, hovertemplate=hovertemplate, name = season_name))\n",
    "    fig.update_layout(mapbox_style=\"open-street-map\",mapbox_center_lon=lon[1], mapbox_center_lat=lat[1])\n",
    "    fig.update_layout(margin={\"r\":0,\"t\":0,\"l\":0,\"b\":0},mapbox=dict(\n",
    "            center=dict(\n",
    "                lat=lat[1], \n",
    "                lon=lon[1]\n",
    "            ),\n",
    "            zoom=11.3\n",
    "        ))\n",
    "    return fig"
   ]
  },
  {
   "cell_type": "markdown",
   "metadata": {},
   "source": [
    "## 5.4 Frequent Drop Spots"
   ]
  },
  {
   "cell_type": "code",
   "execution_count": null,
   "metadata": {},
   "outputs": [],
   "source": [
    "def Frequent_Drop_Spots_seasons(season, year, city, season_name):\n",
    "    tablename = [f'{city}-{year}{str(month).zfill(2)}' for month in season]\n",
    "    if \"Winter\" in season_name:\n",
    "        sql_query = f'''SELECT a.End_Station_Latitude, a.End_Station_Longitude, a.End_Station_Name, \n",
    "        (COUNT(1)\n",
    "        +(IFNULL((SELECT COUNT(1) from \"{tablename[1]}\" as b where b.End_Station_Name = a.End_Station_Name Group by b.End_Station_Name),0))\n",
    "        ) as total_count from \"{tablename[0]}\" as a group by End_Station_Name order by total_count desc limit 20;'''\n",
    "    else:\n",
    "        sql_query = f'''SELECT a.End_Station_Latitude, a.End_Station_Longitude, a.End_Station_Name, \n",
    "        (COUNT(1)\n",
    "        +(IFNULL((SELECT COUNT(1) from \"{tablename[1]}\" as b where b.End_Station_Name = a.End_Station_Name Group by b.End_Station_Name),0))\n",
    "        +(IFNULL((SELECT COUNT(1) from \"{tablename[2]}\" as c where c.End_Station_Name = a.End_Station_Name Group by c.End_Station_Name),0))\n",
    "        ) as total_count from \"{tablename[0]}\" as a group by End_Station_Name order by total_count desc limit 20;'''\n",
    "    cur.execute(sql_query)\n",
    "    result = cur.fetchall()\n",
    "    lat = [i[0] for i in result]\n",
    "    lon = [i[1] for i in result]\n",
    "    z = [i[3] for i in result]\n",
    "    text =[i[2] for i in result]\n",
    "    hovertemplate = \"Station Name: %{text} <br>Count: %{z}\"\n",
    "    fig = go.Figure(go.Densitymapbox(lat=lat, lon=lon, z=z, radius=10,text=text, hovertemplate=hovertemplate, name=season_name))\n",
    "    fig.update_layout(mapbox_style=\"open-street-map\",mapbox_center_lon=lon[1], mapbox_center_lat=lat[1])\n",
    "    fig.update_layout(margin={\"r\":0,\"t\":0,\"l\":0,\"b\":0},mapbox=dict(\n",
    "            center=dict(\n",
    "                lat=lat[1], \n",
    "                lon=lon[1]\n",
    "            ),\n",
    "            zoom=11.3\n",
    "        ))\n",
    "    return fig"
   ]
  },
  {
   "cell_type": "markdown",
   "metadata": {},
   "source": [
    "## 5.5 Most and Least Used Bikes"
   ]
  },
  {
   "cell_type": "code",
   "execution_count": null,
   "metadata": {},
   "outputs": [],
   "source": [
    "def most_and_least_used_bikes_seasonal(season, year, city, season_name):\n",
    "    tablenames = [f'{city}-{year}{str(month).zfill(2)}' for month in season]\n",
    "    count_of_most_used_bikes = {}\n",
    "    count_of_least_used_bikes = {}\n",
    "    for tablename in tablenames:\n",
    "        sql_query = f'''SELECT bikeid, MAX(MYCOUNT) FROM (SELECT bikeid, COUNT(BIKEID)AS MYCOUNT FROM \"{tablename}\" GROUP BY bikeid);'''\n",
    "        cur.execute(sql_query)\n",
    "        bikeid, count = cur.fetchone()\n",
    "        month = int(tablename.split('-')[1][-2:])\n",
    "        count_of_most_used_bikes[calendar.month_name[month]] = (count,bikeid)\n",
    "        sql_query = f'''SELECT bikeid, MIN(MYCOUNT) FROM (SELECT bikeid, COUNT(BIKEID)AS MYCOUNT FROM \"{tablename}\" GROUP BY bikeid);'''\n",
    "        cur.execute(sql_query)\n",
    "        bikeid, count = cur.fetchone()\n",
    "        count_of_least_used_bikes[calendar.month_name[month]] = (count,bikeid)\n",
    "    x = list(count_of_most_used_bikes.keys())\n",
    "    y1 = [count_of_most_used_bikes[key][0] for key in count_of_most_used_bikes]\n",
    "    text1 = [f'bikeid = {count_of_most_used_bikes[key][1]}' for key in count_of_most_used_bikes]\n",
    "    y2 = [count_of_least_used_bikes[key][0] for key in count_of_least_used_bikes]\n",
    "    text2 = [f'bikeid = {count_of_least_used_bikes[key][1]}' for key in count_of_least_used_bikes]\n",
    "    fig = go.Figure(data=[\n",
    "        go.Bar(name='Most Used Bikes', x=x, y=y1, text = text1, textposition='outside'),\n",
    "        go.Bar(name='Least Used Bikes', x=x, y=y2, text = text2, textposition='outside')\n",
    "    ])\n",
    "    fig.update_layout(height=600, width=800, title_text=f\"Most and least used bikes of {year} year and {city} city\")\n",
    "    fig.update_layout(barmode='group')\n",
    "    fig.update_layout(xaxis_title = season_name, yaxis_title = 'Number of times bike is used')\n",
    "    \n",
    "    return fig\n"
   ]
  },
  {
   "cell_type": "markdown",
   "metadata": {},
   "source": [
    "## 5.6 Estimated Travel Distance based on season"
   ]
  },
  {
   "cell_type": "code",
   "execution_count": null,
   "metadata": {},
   "outputs": [],
   "source": [
    "def estimated_travel_distance_seasonal(season, year, city, season_name):\n",
    "    tablename = [f'{city}-{year}{str(month).zfill(2)}' for month in season]\n",
    "    if \"Winter\" in season_name:\n",
    "        sql_query = f'''Select \"Start_Station_Latitude\", \"Start_Station_Longitude\", \n",
    "        \"End_Station_Latitude\", \"End_Station_Longitude\" from \"{tablename[0]}\"\n",
    "        Union all\n",
    "        Select \"Start_Station_Latitude\", \"Start_Station_Longitude\", \n",
    "        \"End_Station_Latitude\", \"End_Station_Longitude\" from \"{tablename[1]}\";'''\n",
    "    else:\n",
    "        sql_query = f'''Select \"Start_Station_Latitude\", \"Start_Station_Longitude\", \n",
    "        \"End_Station_Latitude\", \"End_Station_Longitude\" from \"{tablename[0]}\"\n",
    "        Union all\n",
    "        Select \"Start_Station_Latitude\", \"Start_Station_Longitude\", \n",
    "        \"End_Station_Latitude\", \"End_Station_Longitude\" from \"{tablename[1]}\"\n",
    "        Union all\n",
    "        Select \"Start_Station_Latitude\", \"Start_Station_Longitude\", \n",
    "        \"End_Station_Latitude\", \"End_Station_Longitude\" from \"{tablename[2]}\";'''\n",
    "    cur.execute(sql_query)\n",
    "    result = cur.fetchall()\n",
    "    start_coord = [(i[0], i[1]) for i in result]\n",
    "    end_coord = [(i[2], i[3]) for i in result]\n",
    "    travel_distance = [round(distance(i, j).miles,2) for i,j in zip(start_coord, end_coord)]\n",
    "    fig = go.Figure()\n",
    "    fig.add_trace(go.Histogram(x=travel_distance))\n",
    "    fig.update_xaxes(title_text=\"Distance in Miles\")\n",
    "    fig.update_yaxes(title_text=\"Count\")\n",
    "    fig.update_layout(title_text=f'{season_name} Estimated Travel Distance')\n",
    "    return fig"
   ]
  },
  {
   "cell_type": "markdown",
   "metadata": {},
   "source": [
    "# Part 6 Age and Gender Analysis\n",
    "## 6.1 Average Trip duration of each gender"
   ]
  },
  {
   "cell_type": "code",
   "execution_count": null,
   "metadata": {},
   "outputs": [],
   "source": [
    "def avg_tripduration_based_on_gender(month):\n",
    "    table_name_jc_19 = f\"JC-2019{str(month).zfill(2)}\"\n",
    "    table_name_jc_20 = f\"JC-2020{str(month).zfill(2)}\"\n",
    "    table_name_nyc_19 = f\"NYC-2019{str(month).zfill(2)}\"\n",
    "    table_name_nyc_20 = f\"NYC-2020{str(month).zfill(2)}\"\n",
    "    dict_tablename = {(1,1):table_name_jc_19, (1,2):table_name_jc_20 , (2,1):table_name_nyc_19, (2,2):table_name_nyc_20}     \n",
    "    fig = make_subplots(\n",
    "    rows=2, cols=2, specs=[[{'type':'domain'}, {'type':'domain'}],\n",
    "    [{'type':'domain'}, {'type':'domain'}]], subplot_titles=(\"JC-2019\", \"JC-2020\", \"NYC-2019\", \"NYC-2020\"))\n",
    "    for position, tablename in dict_tablename.items():\n",
    "        #SQL query for gender and tripduration\n",
    "        sql_query = f'''SELECT gender, round(avg(tripduration), 2) FROM \"{tablename}\" GROUP BY gender;'''\n",
    "        cur.execute(sql_query)\n",
    "        gender_map = {0:'Unkown', 1:'Male', 2:'Female'}\n",
    "        trip_duration_dict = {gender_map[int(i[0])]:i[1] for i in cur.fetchall()}\n",
    "        #Seperating Key and values for x and y axis\n",
    "        x = list(trip_duration_dict.keys())\n",
    "        y = [trip_duration_dict[key] for key in trip_duration_dict]\n",
    "\n",
    "        fig.add_trace(go.Pie(labels=x, values=y,text=y, name = 'Gender vs tripduration'), \n",
    "                         row = position[0], col = position[1])\n",
    "        fig.update_traces(hoverinfo='label+percent')\n",
    "    fig.update_layout(height=1000, width=1050, title_text=f'{calendar.month_name[month]} Average Trip Duration Report')\n",
    "    return fig"
   ]
  },
  {
   "cell_type": "markdown",
   "metadata": {},
   "source": [
    "## 6.2 Histogram of Age"
   ]
  },
  {
   "cell_type": "code",
   "execution_count": null,
   "metadata": {},
   "outputs": [],
   "source": [
    "def age_histogram(month):\n",
    "    tablenames = {}\n",
    "    tablenames[(1,1)] = f'JC-2019{str(month).zfill(2)}'\n",
    "    tablenames[(1,2)] = f'JC-2020{str(month).zfill(2)}'\n",
    "    tablenames[(2,1)] = f'NYC-2019{str(month).zfill(2)}'\n",
    "    tablenames[(2,2)] = f'NYC-2020{str(month).zfill(2)}'\n",
    "    fig = make_subplots(\n",
    "    rows=2, cols=2,\n",
    "    subplot_titles=(\"JC-2019\", \"JC-2020\", \"NYC-2019\", \"NYC-2020\"))\n",
    "    for position, tablename in tablenames.items():\n",
    "        sql_query = f'''Select \"birth_year\" from \"{tablename}\";'''\n",
    "        cur.execute(sql_query)\n",
    "        result = cur.fetchall()\n",
    "        ages = [2020 - i[0] for i in result]\n",
    "        fig.add_trace(go.Histogram(x=ages), row = position[0], col = position[1])\n",
    "        fig.update_xaxes(title_text='Age', row = position[0], col = position[1])\n",
    "        fig.update_yaxes(title_text=\"Count\", row = position[0], col = position[1])\n",
    "        fig.update_layout(title_text=f'Active Ages in {calendar.month_name[month]}', showlegend = False)\n",
    "    return fig"
   ]
  },
  {
   "cell_type": "markdown",
   "metadata": {},
   "source": [
    "## 6.3 Age Group Pie Chart"
   ]
  },
  {
   "cell_type": "code",
   "execution_count": null,
   "metadata": {},
   "outputs": [],
   "source": [
    "def age_group_pie_chart(month):\n",
    "    tablenames = {}\n",
    "    tablenames[(1,1)] = f'JC-2019{str(month).zfill(2)}'\n",
    "    tablenames[(1,2)] = f'JC-2020{str(month).zfill(2)}'\n",
    "    tablenames[(2,1)] = f'NYC-2019{str(month).zfill(2)}'\n",
    "    tablenames[(2,2)] = f'NYC-2020{str(month).zfill(2)}'\n",
    "    \n",
    "    subplot_titles=[\"JC-2019\", \"JC-2020\", \"NYC-2019\", \"NYC-2020\"]\n",
    "    fig = make_subplots(rows=2, cols=2, specs=[[{'type':'domain'}, {'type':'domain'}],\n",
    "            [{'type':'domain'}, {'type':'domain'}]],subplot_titles = subplot_titles,vertical_spacing=0.05)\n",
    "    for position, tablename in tablenames.items():\n",
    "        sql_query = f'''Select \"birth_year\" from \"{tablename}\";'''\n",
    "        cur.execute(sql_query)\n",
    "        result = cur.fetchall()\n",
    "        ages = [2020 - i[0] for i in result]\n",
    "        age_group = {'<20':0, '20-29':0, '30-39':0, '40-49':0, '50-59':0, '>60':0}\n",
    "        for i in ages:\n",
    "            if i < 20:\n",
    "                age_group['<20'] += 1\n",
    "            elif 20 <= i <= 29:\n",
    "                age_group['20-29'] += 1\n",
    "            elif 30 <= i <= 39:\n",
    "                age_group['30-39'] += 1\n",
    "            elif 40 <= i <= 49:\n",
    "                age_group['40-49'] += 1\n",
    "            elif 50 <= i <= 59:\n",
    "                age_group['50-59'] += 1\n",
    "            elif i >= 60:\n",
    "                age_group['>60'] += 1\n",
    "        labels = list(age_group.keys())\n",
    "        values = [age_group[key] for key in age_group]\n",
    "        fig.add_trace(go.Pie(labels = labels, values = values, text = values), row = position[0], col = position[1])\n",
    "        fig.update_traces(hoverinfo='label+percent')\n",
    "        fig.update_layout(height=1000, width=1050)\n",
    "        fig.update_layout(title_text=f'Active Age groups in {calendar.month_name[month]}')\n",
    "    return fig"
   ]
  },
  {
   "cell_type": "markdown",
   "metadata": {},
   "source": [
    "## 6.4 Pie Chart for Gender and Time Based Analysis"
   ]
  },
  {
   "cell_type": "code",
   "execution_count": null,
   "metadata": {},
   "outputs": [],
   "source": [
    "def gender_and_timings_based_analysis(month, year, city):\n",
    "    tablename = f'{city}-{year}{str(month).zfill(2)}'\n",
    "    time_windows = {(1,1):[\"00:00:00\",\"03:00:00\"], (1,2):[\"03:00:00\",\"06:00:00\"],\n",
    "                  (2,1):[\"06:00:00\",\"09:00:00\"], (2,2):[\"09:00:00\",\"12:00:00\"],\n",
    "                  (3,1):[\"12:00:00\",\"15:00:00\"], (3,2):[\"15:00:00\",\"19:30:00\"],\n",
    "                  (4,1):[\"19:30:00\",\"21:00:00\"], (4,2):[\"21:00:00\",\"23:59:59\"]}        \n",
    "    subplot_titles = [\"12 AM to 3 AM (Night-Time)\", \"3 AM to 6 AM (Night-Time)\",\n",
    "                     \"6 AM to 9 AM\", \"9 AM to 12 PM\",\"12 AM to 3 AM\", \"3 PM to 7:30 PM\",\n",
    "                     \"7:30 PM to 9 PM (Night-Time)\",\"9 PM to 12 AM (Night-Time)\"]\n",
    "    specs = [[{'type':'domain'}, {'type':'domain'}],[{'type':'domain'}, {'type':'domain'}],\n",
    "             [{'type':'domain'}, {'type':'domain'}],[{'type':'domain'}, {'type':'domain'}]]\n",
    "    gender_map = {0:'Unkown', 1:'Male', 2:'Female'}\n",
    "    fig = make_subplots(rows=4, cols=2, specs=specs,subplot_titles = subplot_titles,vertical_spacing=0.05)\n",
    "    for position, time_window in time_windows.items():\n",
    "        sql_query = f'''select gender, count(starttime) from \"{tablename}\" \n",
    "                    where TIME(starttime) between \"{time_window[0]}\" \n",
    "                    and \"{time_window[1]}\" group by gender;'''\n",
    "        cur.execute(sql_query)\n",
    "        result = cur.fetchall()\n",
    "        labels = [gender_map[i[0]] for i in result]\n",
    "        values = [i[1] for i in result]\n",
    "        fig.add_trace(go.Pie(labels = labels, values = values, text = values), row = position[0], col = position[1])\n",
    "        fig.update_traces(hoverinfo='label+percent')\n",
    "    fig.update_layout(height=1000, width=1050)\n",
    "    fig.update_layout(title_text=f'Relation of Gender and Count w.r.t Timings Analysis for {calendar.month_name[month]} {year} of {city}')\n",
    "    return fig"
   ]
  },
  {
   "cell_type": "markdown",
   "metadata": {},
   "source": [
    "## 6.5 Pie Chart Age Group and Time Based Analysis"
   ]
  },
  {
   "cell_type": "code",
   "execution_count": null,
   "metadata": {},
   "outputs": [],
   "source": [
    "def age_group_and_timings_based_analysis(month, year, city):\n",
    "    tablename = f'{city}-{year}{str(month).zfill(2)}'\n",
    "    time_windows = {(1,1):[\"00:00:00\",\"03:00:00\"], (1,2):[\"03:00:00\",\"06:00:00\"],\n",
    "                  (2,1):[\"06:00:00\",\"09:00:00\"], (2,2):[\"09:00:00\",\"12:00:00\"],\n",
    "                  (3,1):[\"12:00:00\",\"15:00:00\"], (3,2):[\"15:00:00\",\"19:30:00\"],\n",
    "                  (4,1):[\"19:30:00\",\"21:00:00\"], (4,2):[\"21:00:00\",\"23:59:59\"]}        \n",
    "    subplot_titles = [\"12 AM to 3 AM (Night-Time)\", \"3 AM to 6 AM (Night-Time)\",\n",
    "                     \"6 AM to 9 AM\", \"9 AM to 12 PM\",\"12 AM to 3 AM\", \"3 PM to 7:30 PM\",\n",
    "                     \"7:30 PM to 9 PM (Night-Time)\",\"9 PM to 12 AM (Night-Time)\"]\n",
    "    fig = make_subplots(rows=4, cols=2, specs=[[{'type':'domain'}, {'type':'domain'}],\n",
    "        [{'type':'domain'}, {'type':'domain'}],[{'type':'domain'}, {'type':'domain'}],\n",
    "          [{'type':'domain'}, {'type':'domain'}]],subplot_titles = subplot_titles,vertical_spacing=0.09)\n",
    "    for position, time_window in time_windows.items():\n",
    "        sql_query = f'''select (2020-\"birth_year\") as age, count(starttime) from \"{tablename}\" \n",
    "                    where TIME(starttime) between \"{time_window[0]}\" \n",
    "                    and \"{time_window[1]}\" group by age;'''\n",
    "        cur.execute(sql_query)\n",
    "        result = cur.fetchall()\n",
    "        ages_count = {i[0]:i[1] for i in result}\n",
    "        age_group = {'<20':0, '20-29':0, '30-39':0, '40-49':0, '50-59':0, '>60':0}\n",
    "        for age,count in ages_count.items():\n",
    "            if age < 20:\n",
    "                age_group['<20'] += count\n",
    "            elif 20 <= age <= 29:\n",
    "                age_group['20-29'] += count\n",
    "            elif 30 <= age <= 39:\n",
    "                age_group['30-39'] += count\n",
    "            elif 40 <= age <= 49:\n",
    "                age_group['40-49'] += count\n",
    "            elif 50 <= age <= 59:\n",
    "                age_group['50-59'] += count\n",
    "            elif age >= 60:\n",
    "                age_group['>60'] += count\n",
    "        labels = list(age_group.keys())\n",
    "        values = [age_group[key] for key in age_group]\n",
    "        fig.add_trace(go.Pie(labels = labels, values = values, text = values), row = position[0], col = position[1])\n",
    "        fig.update_traces(hoverinfo='label+percent')\n",
    "    fig.update_layout(height=1000, width=1050)\n",
    "    fig.update_layout(title_text=f'Relation of Age Group and Count w.r.t Timings Analysis for {calendar.month_name[month]} {year} of {city}')\n",
    "    return fig    "
   ]
  },
  {
   "cell_type": "markdown",
   "metadata": {},
   "source": [
    "## 6.6 Average trip duration and count for ages"
   ]
  },
  {
   "cell_type": "code",
   "execution_count": null,
   "metadata": {},
   "outputs": [],
   "source": [
    "def avg_tripduration_count(month):\n",
    "    tablenames = {}\n",
    "    tablenames[(1,1)] = f'JC-2019{str(month).zfill(2)}'\n",
    "    tablenames[(1,2)] = f'JC-2020{str(month).zfill(2)}'\n",
    "    tablenames[(2,1)] = f'NYC-2019{str(month).zfill(2)}'\n",
    "    tablenames[(2,2)] = f'NYC-2020{str(month).zfill(2)}'\n",
    "    fig = make_subplots(rows=2, cols=2, subplot_titles=(\"JC-2019\", \"JC-2020\", \"NYC-2019\", \"NYC-2020\"))\n",
    "    for position, tablename in tablenames.items():\n",
    "        sql_query = f'''select (2020-\"birth_year\") as age, round(Avg(tripduration)), \n",
    "            count(starttime) from \"{tablename}\" group by age;'''\n",
    "        cur.execute(sql_query)\n",
    "        result = cur.fetchall()\n",
    "        age = [i[0] for i in result]\n",
    "        trip_duration = [i[1] for i in result]\n",
    "        count = [i[2] for i in result]\n",
    "        text1 = [f'Trip Duration = {i}' for i in trip_duration]\n",
    "        text2 = [f'Count = {i}' for i in count]\n",
    "        fig.add_trace(go.Scatter(x=age, y=trip_duration,text=text1, name = 'Average TripDuration VS Age'),\n",
    "                     row = position[0], col = position[1])\n",
    "        fig.add_trace(go.Scatter(x=age, y=count,text=text2, name = 'Count VS Age'),\n",
    "                     row = position[0], col = position[1])\n",
    "        fig.update_xaxes(title_text=\"Age\", row = position[0], col = position[1])\n",
    "        fig.update_yaxes(title_text=\"Count\", row = position[0], col = position[1])\n",
    "    fig.update_layout(height=1000, width=1050, title_text=f'Relation of Age with trip duration and count in {calendar.month_name[month]}')\n",
    "    return fig"
   ]
  },
  {
   "cell_type": "markdown",
   "metadata": {},
   "source": [
    "## 6.7 Total tripduration of different genders based on time frame"
   ]
  },
  {
   "cell_type": "code",
   "execution_count": null,
   "metadata": {},
   "outputs": [],
   "source": [
    "def total_tripduration_based_on_gender(month, year, city):\n",
    "    tablename = f'{city}-{year}{str(month).zfill(2)}'\n",
    "    time_windows = {(1,1):[\"00:00:00\",\"03:00:00\"], (1,2):[\"03:00:00\",\"06:00:00\"],\n",
    "                  (2,1):[\"06:00:00\",\"09:00:00\"], (2,2):[\"09:00:00\",\"12:00:00\"],\n",
    "                  (3,1):[\"12:00:00\",\"15:00:00\"], (3,2):[\"15:00:00\",\"19:30:00\"],\n",
    "                  (4,1):[\"19:30:00\",\"21:00:00\"], (4,2):[\"21:00:00\",\"23:59:59\"]}        \n",
    "    subplot_titles = [\"12 AM to 3 AM (Night-Time)\", \"3 AM to 6 AM (Night-Time)\",\n",
    "                     \"6 AM to 9 AM\", \"9 AM to 12 PM\",\"12 AM to 3 AM\", \"3 PM to 7:30 PM\",\n",
    "                     \"7:30 PM to 9 PM (Night-Time)\",\"9 PM to 12 AM (Night-Time)\"]\n",
    "    gender_map = {0:'Unkown', 1:'Male', 2:'Female'}\n",
    "    fig = make_subplots(rows=4, cols=2, specs=[[{'type':'domain'}, {'type':'domain'}],\n",
    "        [{'type':'domain'}, {'type':'domain'}],[{'type':'domain'}, {'type':'domain'}],\n",
    "          [{'type':'domain'}, {'type':'domain'}]],subplot_titles = subplot_titles, vertical_spacing=0.05)\n",
    "    for position, time_window in time_windows.items():\n",
    "        sql_query = f'''select gender, sum(tripduration)/3600 from \"{tablename}\" \n",
    "                    where TIME(starttime) between \"{time_window[0]}\" \n",
    "                    and \"{time_window[1]}\" group by gender;'''\n",
    "        cur.execute(sql_query)\n",
    "        result = cur.fetchall()\n",
    "        labels = [gender_map[i[0]] for i in result]\n",
    "        values = [i[1] for i in result]\n",
    "        fig.add_trace(go.Pie(labels = labels, values = values, text = values), row = position[0], col = position[1])\n",
    "        fig.update_traces(hoverinfo='label+percent')\n",
    "    fig.update_layout(height=1000, width=1050, title_text=f'Relation of Gender and TripDuration(in hrs.) w.r.t Timings Analysis for {city} in {calendar.month_name[month]}-{year}')\n",
    "    return fig"
   ]
  },
  {
   "cell_type": "markdown",
   "metadata": {},
   "source": [
    "## Panels inititalization"
   ]
  },
  {
   "cell_type": "code",
   "execution_count": null,
   "metadata": {},
   "outputs": [],
   "source": [
    "pn.extension('plotly')\n",
    "main_analysis_list = ['Monthwise Analysis', 'Seasonal Analysis', 'Age and Gender Analysis']\n",
    "sub_analysis_list = ['Busiest Day','Busiest Month','Frequent Pickup Spots',\n",
    "                     'Frequent Drop Spots', 'Most and Least Used Bikes', 'Estimated Travel Distance']\n",
    "main_analysis  = pnw.RadioButtonGroup(name='main_analysis', \n",
    "            value=main_analysis_list[0], options=main_analysis_list, width = 150)\n",
    "sub_analysis  = pnw.RadioButtonGroup(name='sub_analysis', \n",
    "            value=sub_analysis_list[0], options=sub_analysis_list, width = 150)\n",
    "seasons={'Spring':[3,4,5],'Summer':[6,7,8],'Fall':[9,10,11],'Winter':[1,2]}\n",
    "season = pnw.Select(name='Seasons', options = seasons,width=150,value=[3,4,5])\n",
    "months = {calendar.month_name[month]:month for month in range(1,12)}\n",
    "month = pnw.Select(name='Month', options = months, value = 1, width = 150) \n",
    "year = pnw.Select(name='Year', options=[2019,2020], value=2019, width = 150)\n",
    "city = pnw.Select(name='City', options={'New York City':'NYC', \"Jersey City\":'JC'}, value='JC', width = 150)\n",
    "row_widgets = pn.Row(season, month, year, city)\n",
    "flag = 0\n"
   ]
  },
  {
   "cell_type": "markdown",
   "metadata": {},
   "source": [
    "## Linking Panels with Proper Analysis"
   ]
  },
  {
   "cell_type": "code",
   "execution_count": null,
   "metadata": {},
   "outputs": [],
   "source": [
    "@pn.depends(main_analysis, sub_analysis, season, month, year, city)\n",
    "def reactive_outliers(main_analysis, sub_analysis, season, month, year, city):\n",
    "    global seasons\n",
    "    #Monthwise Analysis\n",
    "    if main_analysis in main_analysis_list[0]:\n",
    "        if sub_analysis in sub_analysis_list[0]:\n",
    "            return busiest_day(month)\n",
    "            pass\n",
    "        elif sub_analysis in sub_analysis_list[1]:\n",
    "            return busiest_month()\n",
    "            pass\n",
    "        elif sub_analysis in sub_analysis_list[2]:\n",
    "            return Frequent_Pickup_Spots(month, year, city)\n",
    "            pass\n",
    "        elif sub_analysis in sub_analysis_list[3]:\n",
    "            return Frequent_Drop_Spots(month, year, city)\n",
    "            pass\n",
    "        elif sub_analysis in sub_analysis_list[4]:\n",
    "            return most_and_least_used_bikes(year, city)\n",
    "            pass\n",
    "        elif sub_analysis in sub_analysis_list[5]:\n",
    "            return estimated_travel_distance(month, year, city)\n",
    "            pass\n",
    "    #Seasonal Analysis\n",
    "    elif main_analysis in main_analysis_list[1]:\n",
    "        season_name = ''\n",
    "        for key, value in seasons.items(): \n",
    "            if season == value: \n",
    "                season_name = key \n",
    "        if sub_analysis in sub_analysis_list[0]:\n",
    "            return busiest_day_seasonal(season,season_name)\n",
    "            pass\n",
    "        elif sub_analysis in sub_analysis_list[1]:\n",
    "            return busiest_month_seasonal(season,season_name)\n",
    "            pass\n",
    "        elif sub_analysis in sub_analysis_list[2]:\n",
    "            return Frequent_Pickup_Spots_season(season, year, city,season_name)\n",
    "\n",
    "        elif sub_analysis in sub_analysis_list[3]:\n",
    "            return Frequent_Drop_Spots_seasons(season, year, city,season_name)\n",
    "            \n",
    "        elif sub_analysis in sub_analysis_list[4]:\n",
    "            return most_and_least_used_bikes_seasonal(season,year, city,season_name)\n",
    "            pass\n",
    "        elif sub_analysis in sub_analysis_list[5]:\n",
    "            return estimated_travel_distance_seasonal(season, year, city,season_name)\n",
    "            pass\n",
    "    #Age and gender analysis\n",
    "    elif main_analysis in main_analysis_list[2]:\n",
    "        if sub_analysis in sub_analysis_list[0]:\n",
    "            return avg_tripduration_based_on_gender(month)\n",
    "            pass\n",
    "        elif sub_analysis in sub_analysis_list[1]:\n",
    "            return total_tripduration_based_on_gender(month, year, city)\n",
    "            pass\n",
    "        elif sub_analysis in sub_analysis_list[2]:\n",
    "            return gender_and_timings_based_analysis(month, year, city)\n",
    "            pass\n",
    "        elif sub_analysis in sub_analysis_list[3]:\n",
    "            return age_histogram(month)\n",
    "            pass\n",
    "        elif sub_analysis in sub_analysis_list[4]:\n",
    "            return age_group_pie_chart(month)\n",
    "            pass\n",
    "        elif sub_analysis in sub_analysis_list[5]:\n",
    "            return age_group_and_timings_based_analysis(month, year, city)\n",
    "            pass\n",
    "        elif sub_analysis in sub_analysis_list[6]:\n",
    "            return avg_tripduration_count(month)\n",
    "            pass"
   ]
  },
  {
   "cell_type": "markdown",
   "metadata": {},
   "source": [
    "## Triggers based on Main Analysis"
   ]
  },
  {
   "cell_type": "code",
   "execution_count": null,
   "metadata": {},
   "outputs": [],
   "source": [
    "def update_widget_main(event):\n",
    "    pg.hotkey('f5')\n",
    "    global sub_analysis_list,flag\n",
    "    if event.new in main_analysis_list[2]:\n",
    "        sleep(0.5)\n",
    "        flag = 2\n",
    "        season.disabled = True\n",
    "        sub_analysis_list = ['Avg Tripdurtation Vs Gender', 'Total Tripdurtation Vs Gender', 'Gender Vs Time Frame',\n",
    "         'Active Ages','Age Groups','Age Group Vs Time Window','Average trip duration and count for ages']\n",
    "        sub_analysis.options = sub_analysis_list\n",
    "        sub_analysis.value = sub_analysis_list[0]\n",
    "    elif event.new in main_analysis_list[1]:\n",
    "        sleep(0.5)\n",
    "        #pg.hotkey('f5')\n",
    "        flag = 1\n",
    "        season.disabled = False\n",
    "        month.disabled = True\n",
    "        sub_analysis_list = ['Busiest Day','Busiest Month','Frequent Pickup Spots',\n",
    "                     'Frequent Drop Spots', 'Most and Least Used Bikes', 'Estimated Travel Distance']\n",
    "        sub_analysis.options = sub_analysis_list\n",
    "        sub_analysis.value = sub_analysis_list[0]\n",
    "    else:\n",
    "        sleep(0.5)\n",
    "        \n",
    "        #pg.hotkey('f5')\n",
    "        flag = 0\n",
    "        season.disabled = True\n",
    "        sub_analysis_list = ['Busiest Day','Busiest Month','Frequent Pickup Spots',\n",
    "                     'Frequent Drop Spots', 'Most and Least Used Bikes', 'Estimated Travel Distance']\n",
    "        sub_analysis.options = sub_analysis_list\n",
    "        sub_analysis.value = sub_analysis_list[0]"
   ]
  },
  {
   "cell_type": "markdown",
   "metadata": {},
   "source": [
    "## Triggers Based on Sub Analysis"
   ]
  },
  {
   "cell_type": "code",
   "execution_count": null,
   "metadata": {},
   "outputs": [],
   "source": [
    "def update_widget(event):\n",
    "    pg.hotkey('f5')\n",
    "    global flag\n",
    "    if event.new in sub_analysis_list[0]:\n",
    "        if flag==1:\n",
    "            month.disabled = True\n",
    "        else:\n",
    "            month.disabled = False\n",
    "        year.disabled = True\n",
    "        city.disabled = True\n",
    "        \n",
    "    elif event.new in sub_analysis_list[1]:\n",
    "        if flag == 2:\n",
    "            month.disabled = False\n",
    "            year.disabled = False\n",
    "            city.disabled = False\n",
    "        else:\n",
    "            month.disabled = True\n",
    "            year.disabled = True\n",
    "            city.disabled = True\n",
    "        \n",
    "    elif event.new in sub_analysis_list[2]:\n",
    "        if flag == 1:\n",
    "            month.disabled = True\n",
    "            year.disabled = False\n",
    "            city.disabled = False\n",
    "        else:\n",
    "            month.disabled = False\n",
    "            year.disabled = False\n",
    "            city.disabled = False\n",
    "        \n",
    "    elif event.new in sub_analysis_list[3]:\n",
    "        if flag == 1:\n",
    "            month.disabled = True\n",
    "            year.disabled = False\n",
    "            city.disabled = False\n",
    "        if flag == 2:\n",
    "            month.disabled = False\n",
    "            year.disabled = True\n",
    "            city.disabled = True\n",
    "        else:\n",
    "            month.disabled = False\n",
    "            year.disabled = False\n",
    "            city.disabled = False\n",
    "\n",
    "    elif event.new in sub_analysis_list[4]:\n",
    "        if flag == 2:\n",
    "            month.disabled = False\n",
    "            year.disabled = True\n",
    "            city.disabled = True\n",
    "        else:\n",
    "            month.disabled = True\n",
    "            year.disabled = False\n",
    "            city.disabled = False\n",
    "        \n",
    "    elif event.new in sub_analysis_list[5]:\n",
    "        if flag==1:\n",
    "            month.disabled = True\n",
    "            year.disabled = False\n",
    "            city.disabled = False\n",
    "        else:\n",
    "            month.disabled = False\n",
    "            year.disabled = False\n",
    "            city.disabled = False\n",
    "    elif event.new in sub_analysis_list[6]:\n",
    "        if flag == 2:\n",
    "            month.disabled = False\n",
    "            year.disabled = True\n",
    "            city.disabled = True"
   ]
  },
  {
   "cell_type": "markdown",
   "metadata": {},
   "source": [
    "## Triggers based on Dropdown"
   ]
  },
  {
   "cell_type": "code",
   "execution_count": null,
   "metadata": {},
   "outputs": [],
   "source": [
    "def update_widget_select(event):\n",
    "    pg.hotkey('f5')"
   ]
  },
  {
   "cell_type": "markdown",
   "metadata": {},
   "source": [
    "## Triggers Initialization"
   ]
  },
  {
   "cell_type": "code",
   "execution_count": null,
   "metadata": {},
   "outputs": [],
   "source": [
    "season.param.watch(update_widget_select, 'value')\n",
    "month.param.watch(update_widget_select, 'value')\n",
    "year.param.watch(update_widget_select, 'value')\n",
    "city.param.watch(update_widget_select, 'value')\n",
    "season.param.trigger('value')\n",
    "month.param.trigger('value')\n",
    "year.param.trigger('value')\n",
    "city.param.trigger('value')\n",
    "main_analysis.param.watch(update_widget_main, 'value')\n",
    "main_analysis.param.trigger('value')\n",
    "sub_analysis.param.watch(update_widget, 'value')\n",
    "sub_analysis.param.trigger('value')"
   ]
  },
  {
   "cell_type": "markdown",
   "metadata": {},
   "source": [
    "## Placement of Widgets and Running of Server "
   ]
  },
  {
   "cell_type": "code",
   "execution_count": null,
   "metadata": {},
   "outputs": [],
   "source": [
    "widgets   = pn.Column(\"# Main Analysis\", main_analysis, \"# Sub Analysis\", sub_analysis, row_widgets, reactive_outliers)\n",
    "sleep(1)\n",
    "widgets.show(title = 'Citi Bikes Analysis')"
   ]
  },
  {
   "cell_type": "code",
   "execution_count": null,
   "metadata": {},
   "outputs": [],
   "source": []
  }
 ],
 "metadata": {
  "kernelspec": {
   "display_name": "Python 3",
   "language": "python",
   "name": "python3"
  },
  "language_info": {
   "codemirror_mode": {
    "name": "ipython",
    "version": 3
   },
   "file_extension": ".py",
   "mimetype": "text/x-python",
   "name": "python",
   "nbconvert_exporter": "python",
   "pygments_lexer": "ipython3",
   "version": "3.7.0"
  }
 },
 "nbformat": 4,
 "nbformat_minor": 2
}
