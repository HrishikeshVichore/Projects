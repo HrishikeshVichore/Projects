{
 "cells": [
  {
   "cell_type": "markdown",
   "metadata": {},
   "source": [
    "# Part 1"
   ]
  },
  {
   "cell_type": "markdown",
   "metadata": {},
   "source": [
    "# Downloading the Dataset\n",
    "## To run this project you will need to install libraries given below:-\n",
    "* `pip install selenium`\n",
    "* `pip install pyautogui`\n",
    "* `pip install panel`\n",
    "* `pip install geopy`\n",
    "* `pip install pathlib`\n",
    "* `pip install plotly`\n",
    "* `pip install matplotlib`\n",
    "## and then download the webdriver of Chrome browser and adding it to Path. Link for web driver given below:-\n",
    "## https://sites.google.com/a/chromium.org/chromedriver/home\n",
    "## For adding it the directory to the path:-"
   ]
  },
  {
   "cell_type": "markdown",
   "metadata": {},
   "source": [
    "### If you have Windows:-\n",
    "1. open cmd and navigate to the downloaded folder's location\n",
    "2. Type this command at the loaction `set PATH=%PATH%;C:\\your\\path\\here\\`"
   ]
  },
  {
   "cell_type": "markdown",
   "metadata": {},
   "source": [
    "### If you have Linux:-\n",
    "1. `nano ~/.bashrc`\n",
    "2. `export PATH=\"$HOME/path/to/folder:$PATH\"`\n",
    "3. `source ~/.bashrc`"
   ]
  },
  {
   "cell_type": "markdown",
   "metadata": {},
   "source": [
    "### If you have Mac:-\n",
    "1. Open up Terminal.\n",
    "2. Run the following command:\n",
    "3. sudo nano /etc/paths\n",
    "4. Enter your password, when prompted.\n",
    "5. Go to the bottom of the file, and enter the path you wish to add.\n",
    "6. Hit control-x to quit.\n",
    "7. Enter “Y” to save the modified buffer.\n",
    "8. That’s it!  "
   ]
  },
  {
   "cell_type": "markdown",
   "metadata": {},
   "source": [
    "### It's recommended to close all the terminal sessions, logout and then log back in for the change in Path variable to take effect\n",
    "### It may take more than 30 minutes to run the entire project."
   ]
  },
  {
   "cell_type": "code",
   "execution_count": 1,
   "metadata": {},
   "outputs": [],
   "source": [
    "import requests\n",
    "from time import sleep\n",
    "from pathlib import Path\n",
    "import os\n",
    "import shutil\n",
    "import zipfile\n",
    "from tqdm import tqdm\n",
    "download_dir = 'Project_Dataset'  # download directory\n",
    "if not os.path.isdir(download_dir):\n",
    "    os.mkdir(download_dir)\n",
    "db_dir = 'Databases' # Database directory\n",
    "if not os.path.isdir(db_dir):\n",
    "    os.mkdir(db_dir)\n"
   ]
  },
  {
   "cell_type": "code",
   "execution_count": null,
   "metadata": {},
   "outputs": [],
   "source": [
    "try:\n",
    "    import selenium\n",
    "    from selenium import webdriver\n",
    "except Exception as e:\n",
    "    print('Do \"pip install selenium\" and run again')\n",
    "try:\n",
    "    print(f'Downloaded file will be saved here -> {download_dir}')\n",
    "    chrome_options = webdriver.ChromeOptions()\n",
    "    chrome_options.add_argument('--headless') # Running chrome headless\n",
    "    driver = webdriver.Chrome(options=chrome_options) \n",
    "    driver.get(\"https://s3.amazonaws.com/tripdata/index.html\") # website\n",
    "    sleep(5) # let the website load\n",
    "    files_to_download = ['2019' + str(i).zfill(2) for i in range(1,12)]\n",
    "    files_to_download += ['2020' + str(i).zfill(2) for i in range(1,12)]\n",
    "    #files_to_download += ['201512', '201612', '201712', '201812']\n",
    "    elems = driver.find_elements_by_xpath(\"//a[@href]\")\n",
    "    for elem in elems:\n",
    "        link = elem.get_attribute(\"href\")\n",
    "        for i in files_to_download:\n",
    "            if i in link: # Download 2019 data\n",
    "                print(f'Currently downloading this {link}')\n",
    "                print('Downloading... Hold on!')\n",
    "                r = requests.get(link, allow_redirects=True)\n",
    "                filename = link.split('/')[-1]\n",
    "                if 'JC' in filename.split('.')[0]:\n",
    "                    filename = f\"JC-{filename.split('-')[1]}.csv.zip\"\n",
    "                else:\n",
    "                    filename = f\"NYC-{filename.split('-')[0]}.csv.zip\"\n",
    "                if not os.path.isfile(download_dir + '/' + filename):\n",
    "                    open(download_dir + '/' + filename, 'wb').write(r.content)\n",
    "                    print('Downloaded!\\nMoving on to the next one :)')\n",
    "                else:\n",
    "                    print('File already exists.\\nSkipping it.')\n",
    "\n",
    "    print('All files Downloaded :)')\n",
    "    driver.quit()\n",
    "except Exception as e:\n",
    "    print(e)\n",
    "    print('Download Webdriver from the link given below and add it to the PATH')\n",
    "    print('https://sites.google.com/a/chromium.org/chromedriver/home')\n",
    "    print('After adding it to PATH close the entire Jupyter notebook and stop everything then run again')\n",
    "    "
   ]
  },
  {
   "cell_type": "markdown",
   "metadata": {},
   "source": [
    "# Sorting the downloaded file."
   ]
  },
  {
   "cell_type": "code",
   "execution_count": null,
   "metadata": {},
   "outputs": [],
   "source": [
    "print('Sorting Begins!')\n",
    "#dirs = ['2019_DATA_JC', '2019_DATA_NYC', '2020_DATA_JC', '2020_DATA_NYC', 'WINTER_DATA_JC', 'WINTER_DATA_NYC']\n",
    "dirs = ['2019_DATA_JC', '2019_DATA_NYC', '2020_DATA_JC', '2020_DATA_NYC']\n",
    "for i in dirs:\n",
    "    if not os.path.isdir(download_dir + '/' + i):\n",
    "        os.mkdir(download_dir + '/' + i)\n",
    "for file in os.listdir(download_dir):\n",
    "    if os.path.isfile(download_dir + '/' + file):\n",
    "        if 'JC' in file:\n",
    "            if '2019' in file:\n",
    "                shutil.move(download_dir + '/' + file, download_dir + '/' + '2019_DATA_JC')\n",
    "            elif '2020'in file:\n",
    "                shutil.move(download_dir + '/' + file, download_dir + '/' + '2020_DATA_JC')\n",
    "            #else:\n",
    "            #    shutil.move(download_dir + '/' + file, download_dir + '/' + 'WINTER_DATA_JC')\n",
    "        else:\n",
    "            if '2019' in file:\n",
    "                shutil.move(download_dir + '/' + file, download_dir + '/' + '2019_DATA_NYC')\n",
    "            elif '2020'in file:\n",
    "                shutil.move(download_dir + '/' + file, download_dir + '/' + '2020_DATA_NYC')\n",
    "            #else:\n",
    "            #    shutil.move(download_dir + '/' + file, download_dir + '/' + 'WINTER_DATA_NYC')\n",
    "print('Sorting Finished!')"
   ]
  },
  {
   "cell_type": "markdown",
   "metadata": {},
   "source": [
    "# Unzipping the downloaded file."
   ]
  },
  {
   "cell_type": "code",
   "execution_count": null,
   "metadata": {},
   "outputs": [],
   "source": [
    "print('Unzipping Now!')\n",
    "path = download_dir\n",
    "\n",
    "for dir in tqdm(os.listdir(path)):    \n",
    "    for file in tqdm(os.listdir(path + '/' + dir)):\n",
    "        filepath = f'{path}/{dir}/{file}'\n",
    "        if os.path.isfile(filepath):\n",
    "            if not file.startswith('.'):\n",
    "                zipfile.ZipFile(path + '/' + dir + '/' + file, 'r').extractall(path + '/' + dir)\n",
    "\n",
    "for dir in tqdm(os.listdir(path)):\n",
    "    for file in tqdm(os.listdir(path + '/' + dir)):\n",
    "        if 'zip' in file:\n",
    "            os.remove(path + '/' + dir + '/' + file)\n",
    "            \n",
    "for dir in os.listdir(path):    \n",
    "    for file in os.listdir(path + '/' + dir):\n",
    "        filepath = f'{path}/{dir}/{file}'\n",
    "        if os.path.isfile(filepath):\n",
    "            if not file.startswith('.'):\n",
    "                if 'JC' in file.split('.')[0]:\n",
    "                    filename = f\"{path}/{dir}/JC-{file.split('-')[1]}.csv\"\n",
    "                else:\n",
    "                    filename = f\"{path}/{dir}/NYC-{file.split('-')[0]}.csv\"\n",
    "                os.rename(filepath,filename)\n",
    "print('All files unzipped!\\nThank You!')"
   ]
  },
  {
   "cell_type": "code",
   "execution_count": null,
   "metadata": {},
   "outputs": [],
   "source": []
  }
 ],
 "metadata": {
  "kernelspec": {
   "display_name": "Python 3",
   "language": "python",
   "name": "python3"
  },
  "language_info": {
   "codemirror_mode": {
    "name": "ipython",
    "version": 3
   },
   "file_extension": ".py",
   "mimetype": "text/x-python",
   "name": "python",
   "nbconvert_exporter": "python",
   "pygments_lexer": "ipython3",
   "version": "3.7.0"
  }
 },
 "nbformat": 4,
 "nbformat_minor": 4
}
